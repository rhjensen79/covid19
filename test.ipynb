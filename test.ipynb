{
 "metadata": {
  "language_info": {
   "codemirror_mode": {
    "name": "ipython",
    "version": 3
   },
   "file_extension": ".py",
   "mimetype": "text/x-python",
   "name": "python",
   "nbconvert_exporter": "python",
   "pygments_lexer": "ipython3",
   "version": "3.9.1-final"
  },
  "orig_nbformat": 2,
  "kernelspec": {
   "name": "python3",
   "display_name": "Python 3.9.1 64-bit",
   "metadata": {
    "interpreter": {
     "hash": "4cd7ab41f5fca4b9b44701077e38c5ffd31fe66a6cab21e0214b68d958d0e462"
    }
   }
  }
 },
 "nbformat": 4,
 "nbformat_minor": 2,
 "cells": [
  {
   "cell_type": "code",
   "execution_count": 5,
   "metadata": {},
   "outputs": [],
   "source": [
    "import pandas as pd"
   ]
  },
  {
   "cell_type": "code",
   "execution_count": 6,
   "metadata": {},
   "outputs": [],
   "source": [
    "main_url = \"https://raw.githubusercontent.com/CSSEGISandData/COVID-19/master/csse_covid_19_data/csse_covid_19_daily_reports/\"\n",
    "date = \"12-27-2020\" "
   ]
  },
  {
   "cell_type": "code",
   "execution_count": 11,
   "metadata": {},
   "outputs": [
    {
     "output_type": "execute_result",
     "data": {
      "text/plain": [
       "      FIPS Admin2 Province_State      Country_Region          Last_Update  \\\n",
       "0      NaN    NaN            NaN         Afghanistan  2020-12-28 05:22:06   \n",
       "1      NaN    NaN            NaN             Albania  2020-12-28 05:22:06   \n",
       "2      NaN    NaN            NaN             Algeria  2020-12-28 05:22:06   \n",
       "3      NaN    NaN            NaN             Andorra  2020-12-28 05:22:06   \n",
       "4      NaN    NaN            NaN              Angola  2020-12-28 05:22:06   \n",
       "...    ...    ...            ...                 ...                  ...   \n",
       "3971   NaN    NaN            NaN             Vietnam  2020-12-28 05:22:06   \n",
       "3972   NaN    NaN            NaN  West Bank and Gaza  2020-12-28 05:22:06   \n",
       "3973   NaN    NaN            NaN               Yemen  2020-12-28 05:22:06   \n",
       "3974   NaN    NaN            NaN              Zambia  2020-12-28 05:22:06   \n",
       "3975   NaN    NaN            NaN            Zimbabwe  2020-12-28 05:22:06   \n",
       "\n",
       "            Lat       Long_  Confirmed  Deaths  Recovered   Active  \\\n",
       "0     33.939110   67.709953      51039    2160      41096   7783.0   \n",
       "1     41.153300   20.168300      56254    1153      31565  23536.0   \n",
       "2     28.033900    1.659600      98249    2728      65862  29659.0   \n",
       "3     42.506300    1.521800       7821      83       7288    450.0   \n",
       "4    -11.202700   17.873900      17240     399      10354   6487.0   \n",
       "...         ...         ...        ...     ...        ...      ...   \n",
       "3971  14.058324  108.277199       1441      35       1303    103.0   \n",
       "3972  31.952200   35.233200     133093    1309     109377  22407.0   \n",
       "3973  15.552727   48.516388       2094     607       1384    103.0   \n",
       "3974 -13.133897   27.849332      19834     383      18210   1241.0   \n",
       "3975 -19.015438   29.154857      13077     349      10593   2135.0   \n",
       "\n",
       "            Combined_Key  Incident_Rate  Case_Fatality_Ratio  \n",
       "0            Afghanistan     131.110134             4.232058  \n",
       "1                Albania    1954.757106             2.049632  \n",
       "2                Algeria     224.051683             2.776619  \n",
       "3                Andorra   10122.306348             1.061245  \n",
       "4                 Angola      52.454997             2.314385  \n",
       "...                  ...            ...                  ...  \n",
       "3971             Vietnam       1.480400             2.428869  \n",
       "3972  West Bank and Gaza    2608.942302             0.983523  \n",
       "3973               Yemen       7.020728            28.987584  \n",
       "3974              Zambia     107.887552             1.931028  \n",
       "3975            Zimbabwe      87.984016             2.668808  \n",
       "\n",
       "[3976 rows x 14 columns]"
      ],
      "text/html": "<div>\n<style scoped>\n    .dataframe tbody tr th:only-of-type {\n        vertical-align: middle;\n    }\n\n    .dataframe tbody tr th {\n        vertical-align: top;\n    }\n\n    .dataframe thead th {\n        text-align: right;\n    }\n</style>\n<table border=\"1\" class=\"dataframe\">\n  <thead>\n    <tr style=\"text-align: right;\">\n      <th></th>\n      <th>FIPS</th>\n      <th>Admin2</th>\n      <th>Province_State</th>\n      <th>Country_Region</th>\n      <th>Last_Update</th>\n      <th>Lat</th>\n      <th>Long_</th>\n      <th>Confirmed</th>\n      <th>Deaths</th>\n      <th>Recovered</th>\n      <th>Active</th>\n      <th>Combined_Key</th>\n      <th>Incident_Rate</th>\n      <th>Case_Fatality_Ratio</th>\n    </tr>\n  </thead>\n  <tbody>\n    <tr>\n      <th>0</th>\n      <td>NaN</td>\n      <td>NaN</td>\n      <td>NaN</td>\n      <td>Afghanistan</td>\n      <td>2020-12-28 05:22:06</td>\n      <td>33.939110</td>\n      <td>67.709953</td>\n      <td>51039</td>\n      <td>2160</td>\n      <td>41096</td>\n      <td>7783.0</td>\n      <td>Afghanistan</td>\n      <td>131.110134</td>\n      <td>4.232058</td>\n    </tr>\n    <tr>\n      <th>1</th>\n      <td>NaN</td>\n      <td>NaN</td>\n      <td>NaN</td>\n      <td>Albania</td>\n      <td>2020-12-28 05:22:06</td>\n      <td>41.153300</td>\n      <td>20.168300</td>\n      <td>56254</td>\n      <td>1153</td>\n      <td>31565</td>\n      <td>23536.0</td>\n      <td>Albania</td>\n      <td>1954.757106</td>\n      <td>2.049632</td>\n    </tr>\n    <tr>\n      <th>2</th>\n      <td>NaN</td>\n      <td>NaN</td>\n      <td>NaN</td>\n      <td>Algeria</td>\n      <td>2020-12-28 05:22:06</td>\n      <td>28.033900</td>\n      <td>1.659600</td>\n      <td>98249</td>\n      <td>2728</td>\n      <td>65862</td>\n      <td>29659.0</td>\n      <td>Algeria</td>\n      <td>224.051683</td>\n      <td>2.776619</td>\n    </tr>\n    <tr>\n      <th>3</th>\n      <td>NaN</td>\n      <td>NaN</td>\n      <td>NaN</td>\n      <td>Andorra</td>\n      <td>2020-12-28 05:22:06</td>\n      <td>42.506300</td>\n      <td>1.521800</td>\n      <td>7821</td>\n      <td>83</td>\n      <td>7288</td>\n      <td>450.0</td>\n      <td>Andorra</td>\n      <td>10122.306348</td>\n      <td>1.061245</td>\n    </tr>\n    <tr>\n      <th>4</th>\n      <td>NaN</td>\n      <td>NaN</td>\n      <td>NaN</td>\n      <td>Angola</td>\n      <td>2020-12-28 05:22:06</td>\n      <td>-11.202700</td>\n      <td>17.873900</td>\n      <td>17240</td>\n      <td>399</td>\n      <td>10354</td>\n      <td>6487.0</td>\n      <td>Angola</td>\n      <td>52.454997</td>\n      <td>2.314385</td>\n    </tr>\n    <tr>\n      <th>...</th>\n      <td>...</td>\n      <td>...</td>\n      <td>...</td>\n      <td>...</td>\n      <td>...</td>\n      <td>...</td>\n      <td>...</td>\n      <td>...</td>\n      <td>...</td>\n      <td>...</td>\n      <td>...</td>\n      <td>...</td>\n      <td>...</td>\n      <td>...</td>\n    </tr>\n    <tr>\n      <th>3971</th>\n      <td>NaN</td>\n      <td>NaN</td>\n      <td>NaN</td>\n      <td>Vietnam</td>\n      <td>2020-12-28 05:22:06</td>\n      <td>14.058324</td>\n      <td>108.277199</td>\n      <td>1441</td>\n      <td>35</td>\n      <td>1303</td>\n      <td>103.0</td>\n      <td>Vietnam</td>\n      <td>1.480400</td>\n      <td>2.428869</td>\n    </tr>\n    <tr>\n      <th>3972</th>\n      <td>NaN</td>\n      <td>NaN</td>\n      <td>NaN</td>\n      <td>West Bank and Gaza</td>\n      <td>2020-12-28 05:22:06</td>\n      <td>31.952200</td>\n      <td>35.233200</td>\n      <td>133093</td>\n      <td>1309</td>\n      <td>109377</td>\n      <td>22407.0</td>\n      <td>West Bank and Gaza</td>\n      <td>2608.942302</td>\n      <td>0.983523</td>\n    </tr>\n    <tr>\n      <th>3973</th>\n      <td>NaN</td>\n      <td>NaN</td>\n      <td>NaN</td>\n      <td>Yemen</td>\n      <td>2020-12-28 05:22:06</td>\n      <td>15.552727</td>\n      <td>48.516388</td>\n      <td>2094</td>\n      <td>607</td>\n      <td>1384</td>\n      <td>103.0</td>\n      <td>Yemen</td>\n      <td>7.020728</td>\n      <td>28.987584</td>\n    </tr>\n    <tr>\n      <th>3974</th>\n      <td>NaN</td>\n      <td>NaN</td>\n      <td>NaN</td>\n      <td>Zambia</td>\n      <td>2020-12-28 05:22:06</td>\n      <td>-13.133897</td>\n      <td>27.849332</td>\n      <td>19834</td>\n      <td>383</td>\n      <td>18210</td>\n      <td>1241.0</td>\n      <td>Zambia</td>\n      <td>107.887552</td>\n      <td>1.931028</td>\n    </tr>\n    <tr>\n      <th>3975</th>\n      <td>NaN</td>\n      <td>NaN</td>\n      <td>NaN</td>\n      <td>Zimbabwe</td>\n      <td>2020-12-28 05:22:06</td>\n      <td>-19.015438</td>\n      <td>29.154857</td>\n      <td>13077</td>\n      <td>349</td>\n      <td>10593</td>\n      <td>2135.0</td>\n      <td>Zimbabwe</td>\n      <td>87.984016</td>\n      <td>2.668808</td>\n    </tr>\n  </tbody>\n</table>\n<p>3976 rows × 14 columns</p>\n</div>"
     },
     "metadata": {},
     "execution_count": 11
    }
   ],
   "source": [
    "data = pd.read_csv(main_url+date+'.csv')\n",
    "data"
   ]
  },
  {
   "cell_type": "code",
   "execution_count": 19,
   "metadata": {},
   "outputs": [
    {
     "output_type": "stream",
     "name": "stdout",
     "text": [
      "0    False\n1    False\n2    False\n3    False\n4    False\nName: Country_Region, dtype: bool\n"
     ]
    }
   ],
   "source": [
    "is_denmark =  data['Country_Region']=='Denmark'\n",
    "print (is_denmark.head())\n"
   ]
  },
  {
   "cell_type": "code",
   "execution_count": null,
   "metadata": {},
   "outputs": [],
   "source": []
  }
 ]
}